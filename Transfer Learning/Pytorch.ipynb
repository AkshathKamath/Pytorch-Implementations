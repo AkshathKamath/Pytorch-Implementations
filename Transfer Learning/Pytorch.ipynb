{
  "nbformat": 4,
  "nbformat_minor": 0,
  "metadata": {
    "colab": {
      "provenance": [],
      "gpuType": "T4"
    },
    "kernelspec": {
      "name": "python3",
      "display_name": "Python 3"
    },
    "language_info": {
      "name": "python"
    },
    "accelerator": "GPU"
  },
  "cells": [
    {
      "cell_type": "code",
      "source": [
        "import torch\n",
        "from torch import nn\n",
        "\n",
        "import torchvision\n",
        "from torchvision import datasets, transforms\n",
        "from torchvision.transforms import ToTensor"
      ],
      "metadata": {
        "id": "8_iP2FtUb_GR"
      },
      "execution_count": 1,
      "outputs": []
    },
    {
      "cell_type": "code",
      "source": [
        "device = \"cuda\" if torch.cuda.is_available() else \"cpu\"\n",
        "device"
      ],
      "metadata": {
        "colab": {
          "base_uri": "https://localhost:8080/",
          "height": 35
        },
        "id": "EvXNeL49RX2O",
        "outputId": "59575937-0086-4801-8b78-ff67b7b361e4"
      },
      "execution_count": 2,
      "outputs": [
        {
          "output_type": "execute_result",
          "data": {
            "text/plain": [
              "'cuda'"
            ],
            "application/vnd.google.colaboratory.intrinsic+json": {
              "type": "string"
            }
          },
          "metadata": {},
          "execution_count": 2
        }
      ]
    },
    {
      "cell_type": "code",
      "source": [
        "import os\n",
        "import zipfile\n",
        "\n",
        "zip_path = \"/content/archive.zip\"\n",
        "extract_path = \"/content/dataset\"\n",
        "\n",
        "# Create a directory to extract the files\n",
        "os.makedirs(extract_path, exist_ok=True)\n",
        "\n",
        "# Extract the zip file\n",
        "with zipfile.ZipFile(zip_path, 'r') as zip_ref:\n",
        "    zip_ref.extractall(extract_path)"
      ],
      "metadata": {
        "id": "ol6icSgEFak0"
      },
      "execution_count": 4,
      "outputs": []
    },
    {
      "cell_type": "code",
      "source": [
        "transform = transforms.Compose([\n",
        "    transforms.ToTensor(),\n",
        "    transforms.Normalize(mean=[0.485, 0.456, 0.406], std=[0.229, 0.224, 0.225])\n",
        "])"
      ],
      "metadata": {
        "id": "lhc9yHrsC9u1"
      },
      "execution_count": 5,
      "outputs": []
    },
    {
      "cell_type": "code",
      "source": [
        "dataset = datasets.ImageFolder(root='./dataset/Animals', transform=transform)"
      ],
      "metadata": {
        "id": "3EPCop5MDEiu"
      },
      "execution_count": 6,
      "outputs": []
    },
    {
      "cell_type": "code",
      "source": [
        "dataset.classes"
      ],
      "metadata": {
        "id": "mU2_6tz-DWRP",
        "colab": {
          "base_uri": "https://localhost:8080/"
        },
        "outputId": "b6a1685d-02fe-4acb-f564-8feecf8b4297"
      },
      "execution_count": 7,
      "outputs": [
        {
          "output_type": "execute_result",
          "data": {
            "text/plain": [
              "['cats', 'dogs', 'snakes']"
            ]
          },
          "metadata": {},
          "execution_count": 7
        }
      ]
    },
    {
      "cell_type": "code",
      "source": [
        "from torch.utils.data import random_split\n",
        "\n",
        "train_size = int(0.8 * len(dataset))\n",
        "val_size = len(dataset) - train_size\n",
        "train_dataset, val_dataset = random_split(dataset, [train_size, val_size])"
      ],
      "metadata": {
        "id": "CZ_eKsEAETbq"
      },
      "execution_count": 8,
      "outputs": []
    },
    {
      "cell_type": "code",
      "source": [
        "image, label = train_dataset[0]\n",
        "print(image.shape)\n",
        "label"
      ],
      "metadata": {
        "colab": {
          "base_uri": "https://localhost:8080/"
        },
        "id": "kXTnnYCtGNba",
        "outputId": "c801ba6f-fb5a-4680-fa20-d554ba8b66d2"
      },
      "execution_count": 9,
      "outputs": [
        {
          "output_type": "stream",
          "name": "stdout",
          "text": [
            "torch.Size([3, 256, 256])\n"
          ]
        },
        {
          "output_type": "execute_result",
          "data": {
            "text/plain": [
              "0"
            ]
          },
          "metadata": {},
          "execution_count": 9
        }
      ]
    },
    {
      "cell_type": "code",
      "source": [
        "from torch.utils.data import DataLoader\n",
        "\n",
        "train_loader = DataLoader(train_dataset, batch_size=32, shuffle=True)\n",
        "val_loader = DataLoader(val_dataset, batch_size=32, shuffle=False)"
      ],
      "metadata": {
        "id": "f-SsYaMPFxGo"
      },
      "execution_count": 10,
      "outputs": []
    },
    {
      "cell_type": "code",
      "source": [
        "weights = torchvision.models.EfficientNet_B0_Weights.DEFAULT\n",
        "model = torchvision.models.efficientnet_b0(weights=weights).to(device)"
      ],
      "metadata": {
        "colab": {
          "base_uri": "https://localhost:8080/"
        },
        "id": "EJLy40kFM6SP",
        "outputId": "05dd1bfc-e7ac-4d26-a675-6cdfb780d605"
      },
      "execution_count": 11,
      "outputs": [
        {
          "output_type": "stream",
          "name": "stderr",
          "text": [
            "Downloading: \"https://download.pytorch.org/models/efficientnet_b0_rwightman-7f5810bc.pth\" to /root/.cache/torch/hub/checkpoints/efficientnet_b0_rwightman-7f5810bc.pth\n",
            "100%|██████████| 20.5M/20.5M [00:00<00:00, 149MB/s]\n"
          ]
        }
      ]
    },
    {
      "cell_type": "code",
      "source": [
        "!pip install torchinfo"
      ],
      "metadata": {
        "colab": {
          "base_uri": "https://localhost:8080/"
        },
        "id": "VJhSM8YHSTz_",
        "outputId": "fc0edbbc-7d74-4804-dba2-07c6e92a23dd"
      },
      "execution_count": 12,
      "outputs": [
        {
          "output_type": "stream",
          "name": "stdout",
          "text": [
            "Collecting torchinfo\n",
            "  Downloading torchinfo-1.8.0-py3-none-any.whl.metadata (21 kB)\n",
            "Downloading torchinfo-1.8.0-py3-none-any.whl (23 kB)\n",
            "Installing collected packages: torchinfo\n",
            "Successfully installed torchinfo-1.8.0\n"
          ]
        }
      ]
    },
    {
      "cell_type": "code",
      "source": [
        "from torchinfo import summary\n",
        "summary(model=model,\n",
        "        input_size=(32, 3, 256, 256),\n",
        "        col_names=[\"input_size\", \"output_size\", \"num_params\", \"trainable\"],\n",
        "        col_width=20,\n",
        "        row_settings=[\"var_names\"]\n",
        ")"
      ],
      "metadata": {
        "colab": {
          "base_uri": "https://localhost:8080/"
        },
        "id": "KKzX3sjYSR1l",
        "outputId": "67dfa1d2-9db8-44fa-be6b-ac480bcbee88"
      },
      "execution_count": 15,
      "outputs": [
        {
          "output_type": "execute_result",
          "data": {
            "text/plain": [
              "============================================================================================================================================\n",
              "Layer (type (var_name))                                      Input Shape          Output Shape         Param #              Trainable\n",
              "============================================================================================================================================\n",
              "EfficientNet (EfficientNet)                                  [32, 3, 256, 256]    [32, 1000]           --                   True\n",
              "├─Sequential (features)                                      [32, 3, 256, 256]    [32, 1280, 8, 8]     --                   True\n",
              "│    └─Conv2dNormActivation (0)                              [32, 3, 256, 256]    [32, 32, 128, 128]   --                   True\n",
              "│    │    └─Conv2d (0)                                       [32, 3, 256, 256]    [32, 32, 128, 128]   864                  True\n",
              "│    │    └─BatchNorm2d (1)                                  [32, 32, 128, 128]   [32, 32, 128, 128]   64                   True\n",
              "│    │    └─SiLU (2)                                         [32, 32, 128, 128]   [32, 32, 128, 128]   --                   --\n",
              "│    └─Sequential (1)                                        [32, 32, 128, 128]   [32, 16, 128, 128]   --                   True\n",
              "│    │    └─MBConv (0)                                       [32, 32, 128, 128]   [32, 16, 128, 128]   1,448                True\n",
              "│    └─Sequential (2)                                        [32, 16, 128, 128]   [32, 24, 64, 64]     --                   True\n",
              "│    │    └─MBConv (0)                                       [32, 16, 128, 128]   [32, 24, 64, 64]     6,004                True\n",
              "│    │    └─MBConv (1)                                       [32, 24, 64, 64]     [32, 24, 64, 64]     10,710               True\n",
              "│    └─Sequential (3)                                        [32, 24, 64, 64]     [32, 40, 32, 32]     --                   True\n",
              "│    │    └─MBConv (0)                                       [32, 24, 64, 64]     [32, 40, 32, 32]     15,350               True\n",
              "│    │    └─MBConv (1)                                       [32, 40, 32, 32]     [32, 40, 32, 32]     31,290               True\n",
              "│    └─Sequential (4)                                        [32, 40, 32, 32]     [32, 80, 16, 16]     --                   True\n",
              "│    │    └─MBConv (0)                                       [32, 40, 32, 32]     [32, 80, 16, 16]     37,130               True\n",
              "│    │    └─MBConv (1)                                       [32, 80, 16, 16]     [32, 80, 16, 16]     102,900              True\n",
              "│    │    └─MBConv (2)                                       [32, 80, 16, 16]     [32, 80, 16, 16]     102,900              True\n",
              "│    └─Sequential (5)                                        [32, 80, 16, 16]     [32, 112, 16, 16]    --                   True\n",
              "│    │    └─MBConv (0)                                       [32, 80, 16, 16]     [32, 112, 16, 16]    126,004              True\n",
              "│    │    └─MBConv (1)                                       [32, 112, 16, 16]    [32, 112, 16, 16]    208,572              True\n",
              "│    │    └─MBConv (2)                                       [32, 112, 16, 16]    [32, 112, 16, 16]    208,572              True\n",
              "│    └─Sequential (6)                                        [32, 112, 16, 16]    [32, 192, 8, 8]      --                   True\n",
              "│    │    └─MBConv (0)                                       [32, 112, 16, 16]    [32, 192, 8, 8]      262,492              True\n",
              "│    │    └─MBConv (1)                                       [32, 192, 8, 8]      [32, 192, 8, 8]      587,952              True\n",
              "│    │    └─MBConv (2)                                       [32, 192, 8, 8]      [32, 192, 8, 8]      587,952              True\n",
              "│    │    └─MBConv (3)                                       [32, 192, 8, 8]      [32, 192, 8, 8]      587,952              True\n",
              "│    └─Sequential (7)                                        [32, 192, 8, 8]      [32, 320, 8, 8]      --                   True\n",
              "│    │    └─MBConv (0)                                       [32, 192, 8, 8]      [32, 320, 8, 8]      717,232              True\n",
              "│    └─Conv2dNormActivation (8)                              [32, 320, 8, 8]      [32, 1280, 8, 8]     --                   True\n",
              "│    │    └─Conv2d (0)                                       [32, 320, 8, 8]      [32, 1280, 8, 8]     409,600              True\n",
              "│    │    └─BatchNorm2d (1)                                  [32, 1280, 8, 8]     [32, 1280, 8, 8]     2,560                True\n",
              "│    │    └─SiLU (2)                                         [32, 1280, 8, 8]     [32, 1280, 8, 8]     --                   --\n",
              "├─AdaptiveAvgPool2d (avgpool)                                [32, 1280, 8, 8]     [32, 1280, 1, 1]     --                   --\n",
              "├─Sequential (classifier)                                    [32, 1280]           [32, 1000]           --                   True\n",
              "│    └─Dropout (0)                                           [32, 1280]           [32, 1280]           --                   --\n",
              "│    └─Linear (1)                                            [32, 1280]           [32, 1000]           1,281,000            True\n",
              "============================================================================================================================================\n",
              "Total params: 5,288,548\n",
              "Trainable params: 5,288,548\n",
              "Non-trainable params: 0\n",
              "Total mult-adds (G): 16.11\n",
              "============================================================================================================================================\n",
              "Input size (MB): 25.17\n",
              "Forward/backward pass size (MB): 4508.38\n",
              "Params size (MB): 21.15\n",
              "Estimated Total Size (MB): 4554.70\n",
              "============================================================================================================================================"
            ]
          },
          "metadata": {},
          "execution_count": 15
        }
      ]
    },
    {
      "cell_type": "code",
      "source": [
        "# Freeze\n",
        "for param in model.features.parameters():\n",
        "    param.requires_grad = False"
      ],
      "metadata": {
        "id": "AheU8mGVNVmF"
      },
      "execution_count": 16,
      "outputs": []
    },
    {
      "cell_type": "code",
      "source": [
        "torch.cuda.manual_seed(42)\n",
        "\n",
        "output_shape = 3\n",
        "\n",
        "# Recreate the classifier layer and seed it to the target device\n",
        "model.classifier = torch.nn.Sequential(\n",
        "    torch.nn.Dropout(p=0.2, inplace=True),\n",
        "    torch.nn.Linear(in_features=1280,\n",
        "                    out_features=output_shape,\n",
        "                    bias=True))"
      ],
      "metadata": {
        "id": "ulyju4UpNeKQ"
      },
      "execution_count": 17,
      "outputs": []
    },
    {
      "cell_type": "code",
      "source": [
        "# Define loss and optimizer\n",
        "loss_fn = nn.CrossEntropyLoss()\n",
        "optimizer = torch.optim.SGD(model.parameters(), lr=0.001)"
      ],
      "metadata": {
        "id": "iKsUlG8pNseF"
      },
      "execution_count": 18,
      "outputs": []
    },
    {
      "cell_type": "code",
      "source": [
        "summary(model=model,\n",
        "        input_size=(32, 3, 256, 256),\n",
        "        col_names=[\"input_size\", \"output_size\", \"num_params\", \"trainable\"],\n",
        "        col_width=20,\n",
        "        row_settings=[\"var_names\"]\n",
        ")"
      ],
      "metadata": {
        "colab": {
          "base_uri": "https://localhost:8080/"
        },
        "id": "nLXV5WnKQtCy",
        "outputId": "fed9b6cc-86be-40c3-925d-74e031cab314"
      },
      "execution_count": 19,
      "outputs": [
        {
          "output_type": "execute_result",
          "data": {
            "text/plain": [
              "============================================================================================================================================\n",
              "Layer (type (var_name))                                      Input Shape          Output Shape         Param #              Trainable\n",
              "============================================================================================================================================\n",
              "EfficientNet (EfficientNet)                                  [32, 3, 256, 256]    [32, 3]              --                   Partial\n",
              "├─Sequential (features)                                      [32, 3, 256, 256]    [32, 1280, 8, 8]     --                   False\n",
              "│    └─Conv2dNormActivation (0)                              [32, 3, 256, 256]    [32, 32, 128, 128]   --                   False\n",
              "│    │    └─Conv2d (0)                                       [32, 3, 256, 256]    [32, 32, 128, 128]   (864)                False\n",
              "│    │    └─BatchNorm2d (1)                                  [32, 32, 128, 128]   [32, 32, 128, 128]   (64)                 False\n",
              "│    │    └─SiLU (2)                                         [32, 32, 128, 128]   [32, 32, 128, 128]   --                   --\n",
              "│    └─Sequential (1)                                        [32, 32, 128, 128]   [32, 16, 128, 128]   --                   False\n",
              "│    │    └─MBConv (0)                                       [32, 32, 128, 128]   [32, 16, 128, 128]   (1,448)              False\n",
              "│    └─Sequential (2)                                        [32, 16, 128, 128]   [32, 24, 64, 64]     --                   False\n",
              "│    │    └─MBConv (0)                                       [32, 16, 128, 128]   [32, 24, 64, 64]     (6,004)              False\n",
              "│    │    └─MBConv (1)                                       [32, 24, 64, 64]     [32, 24, 64, 64]     (10,710)             False\n",
              "│    └─Sequential (3)                                        [32, 24, 64, 64]     [32, 40, 32, 32]     --                   False\n",
              "│    │    └─MBConv (0)                                       [32, 24, 64, 64]     [32, 40, 32, 32]     (15,350)             False\n",
              "│    │    └─MBConv (1)                                       [32, 40, 32, 32]     [32, 40, 32, 32]     (31,290)             False\n",
              "│    └─Sequential (4)                                        [32, 40, 32, 32]     [32, 80, 16, 16]     --                   False\n",
              "│    │    └─MBConv (0)                                       [32, 40, 32, 32]     [32, 80, 16, 16]     (37,130)             False\n",
              "│    │    └─MBConv (1)                                       [32, 80, 16, 16]     [32, 80, 16, 16]     (102,900)            False\n",
              "│    │    └─MBConv (2)                                       [32, 80, 16, 16]     [32, 80, 16, 16]     (102,900)            False\n",
              "│    └─Sequential (5)                                        [32, 80, 16, 16]     [32, 112, 16, 16]    --                   False\n",
              "│    │    └─MBConv (0)                                       [32, 80, 16, 16]     [32, 112, 16, 16]    (126,004)            False\n",
              "│    │    └─MBConv (1)                                       [32, 112, 16, 16]    [32, 112, 16, 16]    (208,572)            False\n",
              "│    │    └─MBConv (2)                                       [32, 112, 16, 16]    [32, 112, 16, 16]    (208,572)            False\n",
              "│    └─Sequential (6)                                        [32, 112, 16, 16]    [32, 192, 8, 8]      --                   False\n",
              "│    │    └─MBConv (0)                                       [32, 112, 16, 16]    [32, 192, 8, 8]      (262,492)            False\n",
              "│    │    └─MBConv (1)                                       [32, 192, 8, 8]      [32, 192, 8, 8]      (587,952)            False\n",
              "│    │    └─MBConv (2)                                       [32, 192, 8, 8]      [32, 192, 8, 8]      (587,952)            False\n",
              "│    │    └─MBConv (3)                                       [32, 192, 8, 8]      [32, 192, 8, 8]      (587,952)            False\n",
              "│    └─Sequential (7)                                        [32, 192, 8, 8]      [32, 320, 8, 8]      --                   False\n",
              "│    │    └─MBConv (0)                                       [32, 192, 8, 8]      [32, 320, 8, 8]      (717,232)            False\n",
              "│    └─Conv2dNormActivation (8)                              [32, 320, 8, 8]      [32, 1280, 8, 8]     --                   False\n",
              "│    │    └─Conv2d (0)                                       [32, 320, 8, 8]      [32, 1280, 8, 8]     (409,600)            False\n",
              "│    │    └─BatchNorm2d (1)                                  [32, 1280, 8, 8]     [32, 1280, 8, 8]     (2,560)              False\n",
              "│    │    └─SiLU (2)                                         [32, 1280, 8, 8]     [32, 1280, 8, 8]     --                   --\n",
              "├─AdaptiveAvgPool2d (avgpool)                                [32, 1280, 8, 8]     [32, 1280, 1, 1]     --                   --\n",
              "├─Sequential (classifier)                                    [32, 1280]           [32, 3]              --                   True\n",
              "│    └─Dropout (0)                                           [32, 1280]           [32, 1280]           --                   --\n",
              "│    └─Linear (1)                                            [32, 1280]           [32, 3]              3,843                True\n",
              "============================================================================================================================================\n",
              "Total params: 4,011,391\n",
              "Trainable params: 3,843\n",
              "Non-trainable params: 4,007,548\n",
              "Total mult-adds (G): 16.07\n",
              "============================================================================================================================================\n",
              "Input size (MB): 25.17\n",
              "Forward/backward pass size (MB): 4508.12\n",
              "Params size (MB): 16.05\n",
              "Estimated Total Size (MB): 4549.33\n",
              "============================================================================================================================================"
            ]
          },
          "metadata": {},
          "execution_count": 19
        }
      ]
    },
    {
      "cell_type": "code",
      "source": [
        "def train_step(model: torch.nn.Module,\n",
        "               data_loader: torch.utils.data.DataLoader,\n",
        "               loss_fn: torch.nn.Module,\n",
        "               optimizer: torch.optim.Optimizer):\n",
        "    train_loss = 0\n",
        "    for batch, (X, y) in enumerate(data_loader):\n",
        "        X, y = X.to(device), y.to(device)\n",
        "\n",
        "        y_pred = model(X)\n",
        "\n",
        "        loss = loss_fn(y_pred, y)\n",
        "        train_loss += loss\n",
        "\n",
        "        optimizer.zero_grad()\n",
        "        loss.backward()\n",
        "        optimizer.step()\n",
        "\n",
        "    train_loss /= len(data_loader)\n",
        "    print(f\"Train loss: {train_loss:.5f}\")"
      ],
      "metadata": {
        "id": "1CFjIkOeNx1r"
      },
      "execution_count": 22,
      "outputs": []
    },
    {
      "cell_type": "code",
      "source": [
        "epochs = 3"
      ],
      "metadata": {
        "id": "RzfX56y5N9IM"
      },
      "execution_count": 23,
      "outputs": []
    },
    {
      "cell_type": "code",
      "source": [
        "model.train()\n",
        "for epoch in range(epochs):\n",
        "  train_step(model, train_loader, loss_fn, optimizer)"
      ],
      "metadata": {
        "colab": {
          "base_uri": "https://localhost:8080/"
        },
        "id": "d0qnHewFN_US",
        "outputId": "02266309-1512-4ac3-db53-8a821a3ccd8a"
      },
      "execution_count": 24,
      "outputs": [
        {
          "output_type": "stream",
          "name": "stdout",
          "text": [
            "Train loss: 1.03293\n",
            "Train loss: 0.88353\n",
            "Train loss: 0.77322\n"
          ]
        }
      ]
    },
    {
      "cell_type": "code",
      "source": [
        "model.eval()\n",
        "correct_predictions = 0\n",
        "total_samples = 0\n",
        "\n",
        "with torch.no_grad():\n",
        "    for inputs, labels in train_loader:\n",
        "\n",
        "        inputs = inputs.to(device)\n",
        "        labels = labels.to(device)\n",
        "        outputs = model(inputs)\n",
        "\n",
        "        _, predictions = torch.max(outputs, 1)\n",
        "        correct_predictions += (predictions == labels).sum().item()\n",
        "        total_samples += labels.size(0)\n",
        "\n",
        "train_accuracy = correct_predictions / total_samples\n",
        "train_accuracy"
      ],
      "metadata": {
        "colab": {
          "base_uri": "https://localhost:8080/"
        },
        "id": "QynsNMAQOHSE",
        "outputId": "238ce6a0-f45f-4d47-f54b-8c85d130e0f7"
      },
      "execution_count": 28,
      "outputs": [
        {
          "output_type": "execute_result",
          "data": {
            "text/plain": [
              "0.9058333333333334"
            ]
          },
          "metadata": {},
          "execution_count": 28
        }
      ]
    },
    {
      "cell_type": "code",
      "source": [
        "model.eval()\n",
        "correct_predictions = 0\n",
        "total_samples = 0\n",
        "\n",
        "with torch.no_grad():\n",
        "    for inputs, labels in val_loader:\n",
        "\n",
        "        inputs = inputs.to(device)\n",
        "        labels = labels.to(device)\n",
        "        outputs = model(inputs)\n",
        "\n",
        "        _, predictions = torch.max(outputs, 1)\n",
        "        correct_predictions += (predictions == labels).sum().item()\n",
        "        total_samples += labels.size(0)\n",
        "\n",
        "test_accuracy = correct_predictions / total_samples\n",
        "test_accuracy"
      ],
      "metadata": {
        "colab": {
          "base_uri": "https://localhost:8080/"
        },
        "id": "ga9Lt6AGTRfr",
        "outputId": "e974e737-8b36-4a50-c660-41560b745048"
      },
      "execution_count": 29,
      "outputs": [
        {
          "output_type": "execute_result",
          "data": {
            "text/plain": [
              "0.9233333333333333"
            ]
          },
          "metadata": {},
          "execution_count": 29
        }
      ]
    }
  ]
}